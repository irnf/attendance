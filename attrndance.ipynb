{
  "nbformat": 4,
  "nbformat_minor": 0,
  "metadata": {
    "colab": {
      "name": "part",
      "provenance": [],
      "collapsed_sections": []
    },
    "kernelspec": {
      "name": "python3",
      "display_name": "Python 3"
    },
    "language_info": {
      "name": "python"
    }
  },
  "cells": [
    {
      "cell_type": "code",
      "metadata": {
        "id": "EicViZaGd3Ek"
      },
      "source": [
        "from google.colab import drive"
      ],
      "execution_count": null,
      "outputs": []
    },
    {
      "cell_type": "code",
      "metadata": {
        "colab": {
          "base_uri": "https://localhost:8080/"
        },
        "id": "LkSaYGhRd9wG",
        "outputId": "e5581416-72f7-4443-bf5d-79b724e07f3c"
      },
      "source": [
        "#Googleドライブをマウント\n",
        "drive.mount('/content/drive')"
      ],
      "execution_count": null,
      "outputs": [
        {
          "output_type": "stream",
          "text": [
            "Drive already mounted at /content/drive; to attempt to forcibly remount, call drive.mount(\"/content/drive\", force_remount=True).\n"
          ],
          "name": "stdout"
        }
      ]
    },
    {
      "cell_type": "code",
      "metadata": {
        "id": "BVLkJPAdeXjU"
      },
      "source": [
        "import pandas as pd \n",
        "data= pd.read_csv('drive/My Drive/programing_text/part/all.csv')"
      ],
      "execution_count": null,
      "outputs": []
    },
    {
      "cell_type": "code",
      "metadata": {
        "id": "YvVSRMSPfBnM"
      },
      "source": [
        "data"
      ],
      "execution_count": null,
      "outputs": []
    },
    {
      "cell_type": "code",
      "metadata": {
        "id": "YMm-1EWCi7hw"
      },
      "source": [
        "l = data['name']"
      ],
      "execution_count": null,
      "outputs": []
    },
    {
      "cell_type": "code",
      "metadata": {
        "id": "pcqhcnsUjE-l"
      },
      "source": [
        "print(l)"
      ],
      "execution_count": null,
      "outputs": []
    },
    {
      "cell_type": "code",
      "metadata": {
        "id": "LJQauvwXinZh"
      },
      "source": [
        "import collections"
      ],
      "execution_count": null,
      "outputs": []
    },
    {
      "cell_type": "code",
      "metadata": {
        "id": "Lb0DWO5TitoW"
      },
      "source": [
        "c = collections.Counter(l)\n",
        "print(c.keys())\n",
        "print(c.values())"
      ],
      "execution_count": null,
      "outputs": []
    },
    {
      "cell_type": "code",
      "metadata": {
        "id": "IU4qERTVk70B"
      },
      "source": [
        "#name_list = list(c.items())\n",
        "name_list = list(c.most_common())\n",
        "print(name_list)"
      ],
      "execution_count": null,
      "outputs": []
    },
    {
      "cell_type": "code",
      "metadata": {
        "id": "FrqiJPRWrudB"
      },
      "source": [
        "name_list\n",
        "len(name_list[0])"
      ],
      "execution_count": null,
      "outputs": []
    },
    {
      "cell_type": "code",
      "metadata": {
        "id": "hEltonffsqp6"
      },
      "source": [
        "!pip install --upgrade -q gspread\n",
        "\n",
        "from google.colab import auth\n",
        "auth.authenticate_user()\n",
        "\n",
        "import gspread\n",
        "from oauth2client.client import GoogleCredentials\n",
        "\n",
        "gc = gspread.authorize(GoogleCredentials.get_application_default())"
      ],
      "execution_count": null,
      "outputs": []
    },
    {
      "cell_type": "code",
      "metadata": {
        "id": "x4KV587msT6h"
      },
      "source": [
        "row_len = len(name_list)\n",
        "col_len = len(name_list[0])\n",
        "\n",
        "sheet_name = \"cal_sheet\"\n",
        "\n",
        "sh = gc.create(sheet_name)\n",
        "worksheet = gc.open(sheet_name).sheet1\n",
        "\n",
        "# 出力前にシートの行数を増やしておく\n",
        "worksheet.add_rows(row_len)\n",
        "\n",
        "# 出力先の指定はA1形式だけでなくセルの行と列番号でも指定できる\n",
        "cell_list = worksheet.range(1, 1, row_len, col_len)\n",
        "col_list = [flatten for inner in name_list for flatten in inner]\n",
        "\n",
        "for cell, col in zip(cell_list, col_list):\n",
        "  cell.value = col\n",
        "\n",
        "worksheet.update_cells(cell_list)"
      ],
      "execution_count": null,
      "outputs": []
    },
    {
      "cell_type": "code",
      "metadata": {
        "id": "WealE7rDmg8e"
      },
      "source": [
        "i = int(len(name_list))\n",
        "i"
      ],
      "execution_count": null,
      "outputs": []
    },
    {
      "cell_type": "code",
      "metadata": {
        "id": "nsIwUcehjasY"
      },
      "source": [
        "name = []\n",
        "for j in range(i):\n",
        "  name.append(name_list[j][0])\n",
        "  #print(name_list[j][0])\n",
        "\n",
        "name"
      ],
      "execution_count": null,
      "outputs": []
    },
    {
      "cell_type": "code",
      "metadata": {
        "id": "A4lZrjSrpnTy"
      },
      "source": [
        "count = []\n",
        "for j in range(i):\n",
        "  #print(C)\n",
        "  count.append(name_list[j][1])\n",
        "count"
      ],
      "execution_count": null,
      "outputs": []
    }
  ]
}